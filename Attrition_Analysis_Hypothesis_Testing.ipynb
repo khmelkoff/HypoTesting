{
 "cells": [
  {
   "cell_type": "markdown",
   "metadata": {},
   "source": [
    "**Аналитик: khmelkoff**"
   ]
  },
  {
   "cell_type": "markdown",
   "metadata": {},
   "source": [
    "# Анализ увольнений: проверка гипотез\n",
    "### Анализ факторов, связанных с увольнениями по собственному желанию\n",
    "*(сокращенная редакция)*"
   ]
  },
  {
   "cell_type": "code",
   "execution_count": 1,
   "metadata": {},
   "outputs": [],
   "source": [
    "import numpy as np\n",
    "import pandas as pd\n",
    "from scipy import stats\n",
    "import seaborn\n",
    "from itertools import combinations\n",
    "from statsmodels.sandbox.stats.multicomp import multipletests\n",
    "from statsmodels.stats.weightstats import zconfint"
   ]
  },
  {
   "cell_type": "code",
   "execution_count": 2,
   "metadata": {},
   "outputs": [
    {
     "name": "stdout",
     "output_type": "stream",
     "text": [
      "Populating the interactive namespace from numpy and matplotlib\n"
     ]
    }
   ],
   "source": [
    "%pylab inline"
   ]
  },
  {
   "cell_type": "code",
   "execution_count": 66,
   "metadata": {},
   "outputs": [
    {
     "data": {
      "text/html": [
       "<div>\n",
       "<style scoped>\n",
       "    .dataframe tbody tr th:only-of-type {\n",
       "        vertical-align: middle;\n",
       "    }\n",
       "\n",
       "    .dataframe tbody tr th {\n",
       "        vertical-align: top;\n",
       "    }\n",
       "\n",
       "    .dataframe thead th {\n",
       "        text-align: right;\n",
       "    }\n",
       "</style>\n",
       "<table border=\"1\" class=\"dataframe\">\n",
       "  <thead>\n",
       "    <tr style=\"text-align: right;\">\n",
       "      <th></th>\n",
       "      <th>Income</th>\n",
       "      <th>Tenure</th>\n",
       "      <th>Age</th>\n",
       "      <th>Degree</th>\n",
       "      <th>IncomeChanges</th>\n",
       "      <th>IncomeRaise</th>\n",
       "      <th>Gender</th>\n",
       "      <th>Travels</th>\n",
       "      <th>Trainings</th>\n",
       "      <th>ofProjects</th>\n",
       "      <th>Vacations</th>\n",
       "      <th>WorkTime</th>\n",
       "      <th>Marital</th>\n",
       "      <th>Resigned</th>\n",
       "    </tr>\n",
       "  </thead>\n",
       "  <tbody>\n",
       "    <tr>\n",
       "      <th>0</th>\n",
       "      <td>0.381943</td>\n",
       "      <td>21</td>\n",
       "      <td>26</td>\n",
       "      <td>Senior</td>\n",
       "      <td>0</td>\n",
       "      <td>0.000000</td>\n",
       "      <td>M</td>\n",
       "      <td>0</td>\n",
       "      <td>0</td>\n",
       "      <td>2</td>\n",
       "      <td>104.0</td>\n",
       "      <td>7.111111</td>\n",
       "      <td>Single</td>\n",
       "      <td>1</td>\n",
       "    </tr>\n",
       "    <tr>\n",
       "      <th>1</th>\n",
       "      <td>0.331059</td>\n",
       "      <td>133</td>\n",
       "      <td>51</td>\n",
       "      <td>Senior</td>\n",
       "      <td>1</td>\n",
       "      <td>0.156927</td>\n",
       "      <td>F</td>\n",
       "      <td>0</td>\n",
       "      <td>0</td>\n",
       "      <td>2</td>\n",
       "      <td>80.0</td>\n",
       "      <td>7.428571</td>\n",
       "      <td>Married</td>\n",
       "      <td>0</td>\n",
       "    </tr>\n",
       "    <tr>\n",
       "      <th>2</th>\n",
       "      <td>0.377046</td>\n",
       "      <td>55</td>\n",
       "      <td>31</td>\n",
       "      <td>Senior</td>\n",
       "      <td>1</td>\n",
       "      <td>0.109244</td>\n",
       "      <td>M</td>\n",
       "      <td>0</td>\n",
       "      <td>0</td>\n",
       "      <td>3</td>\n",
       "      <td>96.0</td>\n",
       "      <td>7.301587</td>\n",
       "      <td>0</td>\n",
       "      <td>0</td>\n",
       "    </tr>\n",
       "    <tr>\n",
       "      <th>3</th>\n",
       "      <td>0.639836</td>\n",
       "      <td>27</td>\n",
       "      <td>23</td>\n",
       "      <td>Regular</td>\n",
       "      <td>2</td>\n",
       "      <td>3.072727</td>\n",
       "      <td>M</td>\n",
       "      <td>0</td>\n",
       "      <td>3</td>\n",
       "      <td>2</td>\n",
       "      <td>80.0</td>\n",
       "      <td>6.367347</td>\n",
       "      <td>Single</td>\n",
       "      <td>0</td>\n",
       "    </tr>\n",
       "    <tr>\n",
       "      <th>4</th>\n",
       "      <td>0.429605</td>\n",
       "      <td>26</td>\n",
       "      <td>46</td>\n",
       "      <td>Senior</td>\n",
       "      <td>0</td>\n",
       "      <td>0.000000</td>\n",
       "      <td>M</td>\n",
       "      <td>11</td>\n",
       "      <td>8</td>\n",
       "      <td>2</td>\n",
       "      <td>40.0</td>\n",
       "      <td>5.079365</td>\n",
       "      <td>Married</td>\n",
       "      <td>0</td>\n",
       "    </tr>\n",
       "  </tbody>\n",
       "</table>\n",
       "</div>"
      ],
      "text/plain": [
       "     Income  Tenure  Age   Degree  IncomeChanges  IncomeRaise Gender  Travels  \\\n",
       "0  0.381943      21   26   Senior              0     0.000000      M        0   \n",
       "1  0.331059     133   51   Senior              1     0.156927      F        0   \n",
       "2  0.377046      55   31   Senior              1     0.109244      M        0   \n",
       "3  0.639836      27   23  Regular              2     3.072727      M        0   \n",
       "4  0.429605      26   46   Senior              0     0.000000      M       11   \n",
       "\n",
       "   Trainings  ofProjects  Vacations  WorkTime  Marital  Resigned  \n",
       "0          0           2      104.0  7.111111   Single         1  \n",
       "1          0           2       80.0  7.428571  Married         0  \n",
       "2          0           3       96.0  7.301587        0         0  \n",
       "3          3           2       80.0  6.367347   Single         0  \n",
       "4          8           2       40.0  5.079365  Married         0  "
      ]
     },
     "execution_count": 66,
     "metadata": {},
     "output_type": "execute_result"
    }
   ],
   "source": [
    "data = pd.read_csv('data/HR_data3.csv', sep=';', decimal=',')\n",
    "data.head()"
   ]
  },
  {
   "cell_type": "code",
   "execution_count": 4,
   "metadata": {},
   "outputs": [
    {
     "data": {
      "text/plain": [
       "(429, 14)"
      ]
     },
     "execution_count": 4,
     "metadata": {},
     "output_type": "execute_result"
    }
   ],
   "source": [
    "data.shape"
   ]
  },
  {
   "cell_type": "code",
   "execution_count": 5,
   "metadata": {},
   "outputs": [
    {
     "data": {
      "text/plain": [
       "0    306\n",
       "1    123\n",
       "Name: Resigned, dtype: int64"
      ]
     },
     "execution_count": 5,
     "metadata": {},
     "output_type": "execute_result"
    }
   ],
   "source": [
    "data.Resigned.value_counts()"
   ]
  },
  {
   "cell_type": "markdown",
   "metadata": {},
   "source": [
    "#### Признаки\n",
    "\n",
    "- Income - Доход сотрудников, нормированный неизвестным для аналитика способом\n",
    "- Tenure - Стаж в компании в месяцах\n",
    "- Age - Возраст (полных лет)\n",
    "- Degree - Уровень сотрудника (Senior, Regular, Junior)\n",
    "- IncomeChanges - Изменение дохода за последние три года (0 - нет, 1 раз, 2 раза, 3 раза)\n",
    "- IncomeRaise - Изменение дохода за последний год в процентах\n",
    "- Gender - пол\n",
    "- Travels - Кол-во командировок в днях за последний год\n",
    "- Trainings - Кол-во часов тренингов за последний год\n",
    "- ofProjects - Текущее кол-во проектов у сотрудника\n",
    "- Vacations - Кол-во отпускных часов за последний год\n",
    "- WorkTime - Среднее рабочее время в день\n",
    "- Marital - Семейный статус\n",
    "- Resigned - Целевой признак, увольнение по собственному желанию = 1 (уволенные по инициативе компании исключены из набора данных)"
   ]
  },
  {
   "cell_type": "markdown",
   "metadata": {},
   "source": [
    "## 1. Среднее рабочее время"
   ]
  },
  {
   "cell_type": "markdown",
   "metadata": {},
   "source": [
    "В двух группах, уволившихся сотрудников (Resigned==1) и тех, кто продолжает работать (Resigned = 0) проверим гипотезы: \n",
    "- о равенстве медианных значений среднего рабочего времени с помощью подходящей интервальной оценки \n",
    "- о равенстве распределений с помощью одного из подходящих непараметрических критериев\n",
    "\n",
    "Оценим значимость полученных результатов с практической точки зрения"
   ]
  },
  {
   "cell_type": "markdown",
   "metadata": {},
   "source": [
    "Проверка сбалансированности выборки по параметру Resigned"
   ]
  },
  {
   "cell_type": "code",
   "execution_count": 6,
   "metadata": {},
   "outputs": [
    {
     "data": {
      "text/plain": [
       "<matplotlib.axes._subplots.AxesSubplot at 0xa9ccbe0>"
      ]
     },
     "execution_count": 6,
     "metadata": {},
     "output_type": "execute_result"
    },
    {
     "data": {
      "image/png": "[encoded data removed]",
      "text/plain": [
       "<Figure size 576x360 with 1 Axes>"
      ]
     },
     "metadata": {},
     "output_type": "display_data"
    }
   ],
   "source": [
    "data.WorkTime[data.Resigned==0].hist(figsize=(8,5), bins=20)\n",
    "data.WorkTime[data.Resigned==1].hist(figsize=(8,5), bins=20)"
   ]
  },
  {
   "cell_type": "code",
   "execution_count": 7,
   "metadata": {},
   "outputs": [
    {
     "data": {
      "image/png": "[encoded data removed]",
      "text/plain": [
       "<Figure size 432x288 with 1 Axes>"
      ]
     },
     "metadata": {},
     "output_type": "display_data"
    }
   ],
   "source": [
    "ax = seaborn.boxplot(x=\"Resigned\", y=\"WorkTime\", data=data)"
   ]
  },
  {
   "cell_type": "markdown",
   "metadata": {},
   "source": [
    "По графикам можно заключить следующее: Оба распределения скошенные, несимметричные, максимум справа. Работающих сотрудников существенно больше (дисбалланс классов). Медианные значения различаются."
   ]
  },
  {
   "cell_type": "markdown",
   "metadata": {},
   "source": [
    "### Проверка гипотезы о равенстве медианных значений среднего рабочего времени с помощью интервальной оценки:\n",
    "\n",
    "$H_0\\colon med_0 = med_1$\n",
    "\n",
    "$H_1\\colon med_0 \\neq med_1$,\n",
    "\n",
    "где $med_0$ - медиана среднего рабочего времени для работающих сотрудников, $med_1$ - для уволившихся (Resigned=1)"
   ]
  },
  {
   "cell_type": "code",
   "execution_count": 8,
   "metadata": {},
   "outputs": [
    {
     "data": {
      "image/png": "[encoded data removed]",
      "text/plain": [
       "<Figure size 864x576 with 2 Axes>"
      ]
     },
     "metadata": {},
     "output_type": "display_data"
    }
   ],
   "source": [
    "# QQ-plot\n",
    "pylab.figure(figsize=(12,8))\n",
    "pylab.subplot(2,2,1)\n",
    "stats.probplot(data.WorkTime[data.Resigned==0], dist=\"norm\", plot=pylab)\n",
    "pylab.subplot(2,2,2)\n",
    "stats.probplot(data.WorkTime[data.Resigned==1], dist=\"norm\", plot=pylab)\n",
    "pylab.show()"
   ]
  },
  {
   "cell_type": "markdown",
   "metadata": {},
   "source": [
    "Очевидно, что распределения различны и, как минимум, выборка для работающих сотрудников взята не из нормального распределения, поэтому для построения интервальных оценок попробуем использовать бутстреп"
   ]
  },
  {
   "cell_type": "code",
   "execution_count": 9,
   "metadata": {},
   "outputs": [],
   "source": [
    "def get_bootstrap_samples(data, n_samples):\n",
    "    indices = np.random.randint(0, len(data), (n_samples, len(data)))\n",
    "    samples = data[indices]\n",
    "    return samples\n",
    "def stat_intervals(stat, alpha):\n",
    "    boundaries = np.percentile(stat, [100 * alpha / 2., 100 * (1 - alpha / 2.)])\n",
    "    return boundaries"
   ]
  },
  {
   "cell_type": "code",
   "execution_count": 10,
   "metadata": {},
   "outputs": [
    {
     "data": {
      "text/plain": [
       "(1000, 306)"
      ]
     },
     "execution_count": 10,
     "metadata": {},
     "output_type": "execute_result"
    }
   ],
   "source": [
    "get_bootstrap_samples(data.WorkTime[data.Resigned==0].values, 1000).shape"
   ]
  },
  {
   "cell_type": "code",
   "execution_count": 11,
   "metadata": {},
   "outputs": [
    {
     "name": "stdout",
     "output_type": "stream",
     "text": [
      "95% confidence interval for the WorkTime median: [7.04761905 7.23809524]\n",
      "95% confidence interval for the WorkTime median Resigned: [6.331454   6.66666667]\n"
     ]
    }
   ],
   "source": [
    "np.random.seed(0)\n",
    "median_scores_0 = list(map(lambda x: np.median(x), \n",
    "                      get_bootstrap_samples(data.WorkTime[data.Resigned==0].values, 1000)))\n",
    "median_scores_1 = list(map(lambda x: np.median(x),  \n",
    "                      get_bootstrap_samples(data.WorkTime[data.Resigned==1].values, 1000)))\n",
    "\n",
    "print(\"95% confidence interval for the WorkTime median:\", \n",
    "    stat_intervals(median_scores_0, 0.05))\n",
    "print(\"95% confidence interval for the WorkTime median Resigned:\", \n",
    "    stat_intervals(median_scores_1, 0.05))"
   ]
  },
  {
   "cell_type": "markdown",
   "metadata": {},
   "source": [
    "#### Точечная оценка разности медиан (наблюдаемая)"
   ]
  },
  {
   "cell_type": "code",
   "execution_count": 12,
   "metadata": {},
   "outputs": [
    {
     "name": "stdout",
     "output_type": "stream",
     "text": [
      "difference between medians: 0.5714285710000002\n"
     ]
    }
   ],
   "source": [
    "med_delta_observed = np.median(data.WorkTime[data.Resigned==0])-np.median(data.WorkTime[data.Resigned==1])\n",
    "print(\"difference between medians:\", med_delta_observed)"
   ]
  },
  {
   "cell_type": "markdown",
   "metadata": {},
   "source": [
    "#### Интервальная оценка разности медиан"
   ]
  },
  {
   "cell_type": "code",
   "execution_count": 13,
   "metadata": {},
   "outputs": [],
   "source": [
    "delta_median_scores = list(map(lambda x: x[0] - x[1], zip(median_scores_0, median_scores_1)))"
   ]
  },
  {
   "cell_type": "code",
   "execution_count": 14,
   "metadata": {},
   "outputs": [
    {
     "name": "stdout",
     "output_type": "stream",
     "text": [
      "95% confidence interval for the difference between medians [0.44444444 0.78966111]\n"
     ]
    }
   ],
   "source": [
    "print(\"95% confidence interval for the difference between medians\", \n",
    "stat_intervals(delta_median_scores, 0.05))"
   ]
  },
  {
   "cell_type": "markdown",
   "metadata": {},
   "source": [
    "#### Оценка достигамого уровня значимости"
   ]
  },
  {
   "cell_type": "code",
   "execution_count": 15,
   "metadata": {},
   "outputs": [
    {
     "data": {
      "text/plain": [
       "0.0"
      ]
     },
     "execution_count": 15,
     "metadata": {},
     "output_type": "execute_result"
    }
   ],
   "source": [
    "np.mean(np.array(delta_median_scores)<=0)"
   ]
  },
  {
   "cell_type": "code",
   "execution_count": 16,
   "metadata": {},
   "outputs": [
    {
     "data": {
      "text/plain": [
       "0.317460317000001"
      ]
     },
     "execution_count": 16,
     "metadata": {},
     "output_type": "execute_result"
    }
   ],
   "source": [
    "min(np.array(delta_median_scores))"
   ]
  },
  {
   "cell_type": "markdown",
   "metadata": {},
   "source": [
    "- **Вывод 1.1:** 95% доверительный интервал для разности медиан не содержит 0 (а доверительные интервалы для выборочных медиан не перекрываются), следовательно нулевая гипотеза о равенстве медиан среднего рабочего времени для работающих и уволившихся сотрудников на уровне значимости 0.05 **отвергается**. Минимальное значение разности медиан для бутсреп выборок составляет 0.32 часа. Оценка достигаемого уровня значимости равна нулю - нет ни одного кейса, в котором медианные значения совпали."
   ]
  },
  {
   "cell_type": "markdown",
   "metadata": {},
   "source": [
    "### Проверка гипотезы о равенстве распределений (WorkTime)\n",
    "\n",
    "$H_0\\colon F_{X_0}(x) = F_{X_1}(x+\\Delta), \\Delta = 0$\n",
    "\n",
    "$H_1\\colon F_{X_0}(x) = F_{X_1}(x+\\Delta), \\Delta \\neq 0$,\n",
    "\n",
    "где F - соответствующие распределения, $X_0$ - выборка для работающих сотрудников, $X_1$ - для уволившихся"
   ]
  },
  {
   "cell_type": "markdown",
   "metadata": {},
   "source": [
    "Используем перестановочный критерий для независимых выборок:"
   ]
  },
  {
   "cell_type": "code",
   "execution_count": 17,
   "metadata": {},
   "outputs": [],
   "source": [
    "def permutation_t_stat_ind(sample1, sample2):\n",
    "    return np.mean(sample1) - np.mean(sample2)\n",
    "\n",
    "def get_random_combinations(n1, n2, max_combinations):\n",
    "    index = list(range(n1 + n2))\n",
    "    indices = set([tuple(index)])\n",
    "    for i in range(max_combinations - 1):\n",
    "        np.random.shuffle(index)\n",
    "        indices.add(tuple(index))\n",
    "    return [(index[:n1], index[n1:]) for index in indices]\n",
    "\n",
    "def permutation_zero_dist_ind(sample1, sample2, max_combinations = None):\n",
    "    joined_sample = np.hstack((sample1, sample2))\n",
    "    n1 = len(sample1)\n",
    "    n = len(joined_sample)\n",
    "    \n",
    "    if max_combinations:\n",
    "        indices = get_random_combinations(n1, len(sample2), max_combinations)\n",
    "    else:\n",
    "        indices = [(list(index), filter(lambda i: i not in index, range(n))) \\\n",
    "                    for index in itertools.combinations(range(n), n1)]\n",
    "    \n",
    "    distr = [joined_sample[list(i[0])].mean() - joined_sample[list(i[1])].mean() \\\n",
    "             for i in indices]\n",
    "    return distr\n",
    "\n",
    "def permutation_test_ind(sample1, sample2, max_combinations = None, \n",
    "                         alternative = 'two-sided'):\n",
    "    if alternative not in ('two-sided', 'less', 'greater'):\n",
    "        raise ValueError(\"alternative not recognized\\n\"\n",
    "                         \"should be 'two-sided', 'less' or 'greater'\")\n",
    "    \n",
    "    t_stat = permutation_t_stat_ind(sample1, sample2)\n",
    "    \n",
    "    zero_distr = permutation_zero_dist_ind(sample1, sample2, max_combinations)\n",
    "    \n",
    "    if alternative == 'two-sided':\n",
    "        return sum([1. if abs(x) >= abs(t_stat) else 0. \n",
    "                    for x in zero_distr]) / len(zero_distr)\n",
    "    \n",
    "    if alternative == 'less':\n",
    "        return sum([1. if x <= t_stat else 0. for x in zero_distr]) / len(zero_distr)\n",
    "\n",
    "    if alternative == 'greater':\n",
    "        return sum([1. if x >= t_stat else 0. for x in zero_distr]) / len(zero_distr)"
   ]
  },
  {
   "cell_type": "code",
   "execution_count": 18,
   "metadata": {},
   "outputs": [
    {
     "name": "stdout",
     "output_type": "stream",
     "text": [
      "(123,) (306,)\n"
     ]
    }
   ],
   "source": [
    "sample1 = data.WorkTime[data.Resigned==1]\n",
    "sample0 = data.WorkTime[data.Resigned==0]\n",
    "print(sample1.shape, sample0.shape)"
   ]
  },
  {
   "cell_type": "code",
   "execution_count": 19,
   "metadata": {},
   "outputs": [
    {
     "name": "stdout",
     "output_type": "stream",
     "text": [
      "Достигаемый уровень значимости: p-value 0.030500\n"
     ]
    }
   ],
   "source": [
    "np.random.seed(0)\n",
    "print(\"Достигаемый уровень значимости: p-value %f\" % \n",
    "    permutation_test_ind(sample0, sample1, max_combinations = 10000))"
   ]
  },
  {
   "cell_type": "markdown",
   "metadata": {},
   "source": [
    "- **Вывод 1.2:** Нулевая гипотеза о равенстве распределений среднего рабочего времени для работающих и уволившихся сотрудников против альтернативы о неравенстве ($\\Delta \\neq 0$) на уровне значимости 0.05 **отвергается**. Достигаемый уровень значимости: p-value 0.0305\n",
    "\n",
    "- **Размер эффекта:** Минимальное значение разности медиан для бутстреп выборок составляет 0.32 часа (19 минут), точечная оценка разности медиан - 0.57 часа (34 минуты). Можно предположить значимость полученных результатов с практической точки зрения."
   ]
  },
  {
   "cell_type": "markdown",
   "metadata": {},
   "source": [
    "## 2. Доход сотрудника"
   ]
  },
  {
   "cell_type": "code",
   "execution_count": 20,
   "metadata": {},
   "outputs": [
    {
     "data": {
      "text/plain": [
       "<matplotlib.axes._subplots.AxesSubplot at 0xb1ab518>"
      ]
     },
     "execution_count": 20,
     "metadata": {},
     "output_type": "execute_result"
    },
    {
     "data": {
      "image/png": "[encoded data removed]",
      "text/plain": [
       "<Figure size 576x360 with 1 Axes>"
      ]
     },
     "metadata": {},
     "output_type": "display_data"
    }
   ],
   "source": [
    "data.Income[data.Resigned==0].hist(figsize=(8,5), bins=20)\n",
    "data.Income[data.Resigned==1].hist(figsize=(8,5), bins=20)"
   ]
  },
  {
   "cell_type": "code",
   "execution_count": 21,
   "metadata": {},
   "outputs": [
    {
     "data": {
      "image/png": "[encoded data removed]",
      "text/plain": [
       "<Figure size 432x288 with 1 Axes>"
      ]
     },
     "metadata": {},
     "output_type": "display_data"
    }
   ],
   "source": [
    "ax = seaborn.boxplot(x=\"Resigned\", y=\"Income\", data=data)"
   ]
  },
  {
   "cell_type": "markdown",
   "metadata": {},
   "source": [
    "По графикам можно заключить следующее: Распределения похожи, медианы незначительно различаются, распрежделение для работающих сотрудников шире и имеет более длинные хвосты."
   ]
  },
  {
   "cell_type": "code",
   "execution_count": 22,
   "metadata": {},
   "outputs": [],
   "source": [
    "income0 = data.Income[data.Resigned==0]\n",
    "income1 = data.Income[data.Resigned==1]"
   ]
  },
  {
   "cell_type": "code",
   "execution_count": 24,
   "metadata": {},
   "outputs": [
    {
     "name": "stdout",
     "output_type": "stream",
     "text": [
      "95% confidence interval for the Income mean: [0.394382, 0.418020]\n"
     ]
    }
   ],
   "source": [
    "print('95%% confidence interval for the Income mean: [%f, %f]' % zconfint(income0))"
   ]
  },
  {
   "cell_type": "code",
   "execution_count": 23,
   "metadata": {},
   "outputs": [
    {
     "name": "stdout",
     "output_type": "stream",
     "text": [
      "95% confidence interval for the Income mean: [0.365386, 0.395684]\n"
     ]
    }
   ],
   "source": [
    "print('95%% confidence interval for the Income mean: [%f, %f]' % zconfint(income1))"
   ]
  },
  {
   "cell_type": "code",
   "execution_count": 25,
   "metadata": {},
   "outputs": [
    {
     "data": {
      "text/plain": [
       "0.388472    9\n",
       "0.428462    9\n",
       "0.462454    8\n",
       "0.442744    8\n",
       "0.354195    7\n",
       "Name: Income, dtype: int64"
      ]
     },
     "execution_count": 25,
     "metadata": {},
     "output_type": "execute_result"
    }
   ],
   "source": [
    "income0.value_counts().head()"
   ]
  },
  {
   "cell_type": "code",
   "execution_count": 26,
   "metadata": {},
   "outputs": [
    {
     "data": {
      "text/plain": [
       "0.382759    3\n",
       "0.358956    3\n",
       "0.399897    2\n",
       "0.451313    2\n",
       "0.416464    2\n",
       "Name: Income, dtype: int64"
      ]
     },
     "execution_count": 26,
     "metadata": {},
     "output_type": "execute_result"
    }
   ],
   "source": [
    "income1.value_counts().head()"
   ]
  },
  {
   "cell_type": "markdown",
   "metadata": {},
   "source": [
    "В выборка присутствуют повторяющиеся значения, следовательно нельзя использовать ранговый критерий. Воспользуемся перестановочным тестом."
   ]
  },
  {
   "cell_type": "markdown",
   "metadata": {},
   "source": [
    "### Проверка гипотезы о равенстве распределений (Income)\n",
    "\n",
    "$H_0\\colon F_{X_0}(x) = F_{X_1}(x+\\Delta), \\Delta = 0$\n",
    "\n",
    "$H_1\\colon F_{X_0}(x) = F_{X_1}(x+\\Delta), \\Delta \\neq 0$,\n",
    "\n",
    "где F - соответствующие распределения, $X_0$ - выборка для работающих сотрудников, $X_1$ - для уволившихся"
   ]
  },
  {
   "cell_type": "code",
   "execution_count": 27,
   "metadata": {},
   "outputs": [
    {
     "name": "stdout",
     "output_type": "stream",
     "text": [
      "p-value: 0.018400\n"
     ]
    }
   ],
   "source": [
    "print(\"p-value: %f\" % permutation_test_ind(income0, income1, max_combinations = 10000))"
   ]
  },
  {
   "cell_type": "markdown",
   "metadata": {},
   "source": [
    "- **Вывод 2.1:** Нулевая гипотеза о равенстве распределений дохода для работающих и уволившихся сотрудников против альтернативы о неравенстве ($\\Delta \\neq 0$) на уровне значимости 0.05 **отвергается**. Достигаемый уровень значимости: p-value 0.018.\n",
    "- **Вывод 2.2:** Есть незначительное перекрытие 95% доверительных интервалов для средних значений дохода в двух группах сотрудников. Не представляется возможным оценить размер эффекта, т.к. доход нормирован."
   ]
  },
  {
   "cell_type": "markdown",
   "metadata": {},
   "source": [
    "## 3. Изменение дохода (IncomeChanges)"
   ]
  },
  {
   "cell_type": "code",
   "execution_count": 28,
   "metadata": {},
   "outputs": [
    {
     "data": {
      "text/plain": [
       "0    226\n",
       "1    165\n",
       "2     33\n",
       "3      5\n",
       "Name: IncomeChanges, dtype: int64"
      ]
     },
     "execution_count": 28,
     "metadata": {},
     "output_type": "execute_result"
    }
   ],
   "source": [
    "data.IncomeChanges.value_counts()"
   ]
  },
  {
   "cell_type": "markdown",
   "metadata": {},
   "source": [
    "Проверим гипотезу о том, что увольнение сотрудников связано с изменением дохода. Используем несколько различных решений этой задачи (с помощью доверительного интервала и подходящего статистического критерия). Будем рассматривать два класса - изменения дохода не было (IncomeChanges==0) и изменение дохода было (IncomeChanges>0)."
   ]
  },
  {
   "cell_type": "code",
   "execution_count": 29,
   "metadata": {},
   "outputs": [
    {
     "data": {
      "text/plain": [
       "<matplotlib.axes._subplots.AxesSubplot at 0xb065470>"
      ]
     },
     "execution_count": 29,
     "metadata": {},
     "output_type": "execute_result"
    },
    {
     "data": {
      "image/png": "[encoded data removed]",
      "text/plain": [
       "<Figure size 432x288 with 1 Axes>"
      ]
     },
     "metadata": {},
     "output_type": "display_data"
    }
   ],
   "source": [
    "seaborn.countplot(x=['Yes' if x > 0 else 'No' for x in data.IncomeChanges], \n",
    "                  hue=data.Resigned)"
   ]
  },
  {
   "cell_type": "markdown",
   "metadata": {},
   "source": [
    "По графику можно сделать заключение, что доля уволившихся сотрудников выше среди тех у кого не было изменений в доходе."
   ]
  },
  {
   "cell_type": "markdown",
   "metadata": {},
   "source": [
    "### Проверка гипотезы о том, что увольнение сотрудников связано с изменением дохода (при помощи доверительного интервала)\n",
    "\n",
    "$H_0\\colon p_1 - p_2 = 0$\n",
    "\n",
    "$H_1\\colon p_1 - p_2 \\neq 0$,\n",
    "\n",
    "где $p_1$ - доля уволившихся среди сотрудников с изменением дохода, $p_2$ - доля уволившихся среди сотрудников без изменения дохода\n",
    "\n",
    "#### Точечная оценка разности долей"
   ]
  },
  {
   "cell_type": "code",
   "execution_count": 30,
   "metadata": {},
   "outputs": [],
   "source": [
    "sample1 = data.Resigned[data.IncomeChanges>0] # изменение было\n",
    "sample2 = data.Resigned[data.IncomeChanges==0] # доход не менялся"
   ]
  },
  {
   "cell_type": "code",
   "execution_count": 31,
   "metadata": {},
   "outputs": [
    {
     "name": "stdout",
     "output_type": "stream",
     "text": [
      "доля уволившихся с изменением: 0.201970, доля уволившихся без изменения: 0.362832, p1 - p2: -0.160861\n"
     ]
    }
   ],
   "source": [
    "p1 = float(sum(sample1)) / len(sample1)\n",
    "p2 = float(sum(sample2)) / len(sample2)\n",
    "print('доля уволившихся с изменением: %f, доля уволившихся без изменения: %f, p1 - p2: %f' % (p1, p2, p1-p2))"
   ]
  },
  {
   "cell_type": "code",
   "execution_count": 32,
   "metadata": {},
   "outputs": [],
   "source": [
    "def proportions_diff_confint_ind(sample1, sample2, alpha = 0.05):    \n",
    "    z = stats.norm.ppf(1 - alpha / 2.)\n",
    "    \n",
    "    p1 = float(sum(sample1)) / len(sample1)\n",
    "    p2 = float(sum(sample2)) / len(sample2)\n",
    "    \n",
    "    left_boundary = (p1 - p2) - z * np.sqrt(p1 * (1 - p1)/ len(sample1) \n",
    "                                            + p2 * (1 - p2)/ len(sample2))\n",
    "    right_boundary = (p1 - p2) + z * np.sqrt(p1 * (1 - p1)/ len(sample1)\n",
    "                                             + p2 * (1 - p2)/ len(sample2))\n",
    "    \n",
    "    return (left_boundary, right_boundary)\n",
    "\n",
    "def proportions_diff_z_stat_ind(sample1, sample2):\n",
    "    n1 = len(sample1)\n",
    "    n2 = len(sample2)\n",
    "    \n",
    "    p1 = float(sum(sample1)) / n1\n",
    "    p2 = float(sum(sample2)) / n2 \n",
    "    P = float(p1*n1 + p2*n2) / (n1 + n2)\n",
    "    \n",
    "    return (p1 - p2) / np.sqrt(P * (1 - P) * (1. / n1 + 1. / n2))\n",
    "\n",
    "\n",
    "def proportions_diff_z_test(z_stat, alternative = 'two-sided'):\n",
    "    if alternative not in ('two-sided', 'less', 'greater'):\n",
    "        raise ValueError(\"alternative not recognized\\n\"\n",
    "                         \"should be 'two-sided', 'less' or 'greater'\")\n",
    "    \n",
    "    if alternative == 'two-sided':\n",
    "        return 2 * (1 - stats.norm.cdf(np.abs(z_stat)))\n",
    "    \n",
    "    if alternative == 'less':\n",
    "        return stats.norm.cdf(z_stat)\n",
    "\n",
    "    if alternative == 'greater':\n",
    "        return 1 - stats.norm.cdf(z_stat)"
   ]
  },
  {
   "cell_type": "code",
   "execution_count": 35,
   "metadata": {},
   "outputs": [
    {
     "name": "stdout",
     "output_type": "stream",
     "text": [
      "95% confidence interval for a difference between proportions: [-0.244406, -0.077317]\n"
     ]
    }
   ],
   "source": [
    "proportions_diff_confint = proportions_diff_confint_ind(sample1, sample2, alpha = 0.05)\n",
    "print(\"95%% confidence interval for a difference between proportions: [%f, %f]\" % \n",
    "    proportions_diff_confint)"
   ]
  },
  {
   "cell_type": "code",
   "execution_count": 37,
   "metadata": {},
   "outputs": [
    {
     "name": "stdout",
     "output_type": "stream",
     "text": [
      "p-value 'two side': 0.00023461950611758375\n"
     ]
    }
   ],
   "source": [
    "print(\"p-value 'two side':\", \n",
    "    proportions_diff_z_test(proportions_diff_z_stat_ind(sample1, sample2)))"
   ]
  },
  {
   "cell_type": "markdown",
   "metadata": {},
   "source": [
    "- **Вывод 3.1:** 95% доверительный интервал для разности долей уволившихся среди сотрудников с изменением дохожа и тех, у кого доход не менялся не содержит 0, нулевая гипотеза о равенстве долей на уровне значимости 0.05 **отвергается**, достигаемый уровень значимости ~ 0.0002."
   ]
  },
  {
   "cell_type": "markdown",
   "metadata": {},
   "source": [
    "### Проверка гипотезы о том, что увольнение сотрудников связано с изменением дохода (при помощи критерия независимости хи-квадрат)\n",
    "\n",
    "$H_0\\colon$ увольнение и изменение дохода независимы \n",
    "\n",
    "$H_1\\colon$ увольнение и изменение дохода зависимы"
   ]
  },
  {
   "cell_type": "code",
   "execution_count": 38,
   "metadata": {},
   "outputs": [
    {
     "data": {
      "text/html": [
       "<div>\n",
       "<style scoped>\n",
       "    .dataframe tbody tr th:only-of-type {\n",
       "        vertical-align: middle;\n",
       "    }\n",
       "\n",
       "    .dataframe tbody tr th {\n",
       "        vertical-align: top;\n",
       "    }\n",
       "\n",
       "    .dataframe thead th {\n",
       "        text-align: right;\n",
       "    }\n",
       "</style>\n",
       "<table border=\"1\" class=\"dataframe\">\n",
       "  <thead>\n",
       "    <tr style=\"text-align: right;\">\n",
       "      <th>IncomeChanges</th>\n",
       "      <th>False</th>\n",
       "      <th>True</th>\n",
       "    </tr>\n",
       "    <tr>\n",
       "      <th>Resigned</th>\n",
       "      <th></th>\n",
       "      <th></th>\n",
       "    </tr>\n",
       "  </thead>\n",
       "  <tbody>\n",
       "    <tr>\n",
       "      <th>0</th>\n",
       "      <td>144</td>\n",
       "      <td>162</td>\n",
       "    </tr>\n",
       "    <tr>\n",
       "      <th>1</th>\n",
       "      <td>82</td>\n",
       "      <td>41</td>\n",
       "    </tr>\n",
       "  </tbody>\n",
       "</table>\n",
       "</div>"
      ],
      "text/plain": [
       "IncomeChanges  False  True \n",
       "Resigned                   \n",
       "0                144    162\n",
       "1                 82     41"
      ]
     },
     "execution_count": 38,
     "metadata": {},
     "output_type": "execute_result"
    }
   ],
   "source": [
    "tab = pd.crosstab(data.Resigned, data.IncomeChanges>0)\n",
    "tab"
   ]
  },
  {
   "cell_type": "markdown",
   "metadata": {},
   "source": [
    "Проверим гипотезу о независимости (без поправки Йется, наблюдений достаточно)"
   ]
  },
  {
   "cell_type": "code",
   "execution_count": 39,
   "metadata": {},
   "outputs": [
    {
     "name": "stdout",
     "output_type": "stream",
     "text": [
      "статистика:  13.531283737175062 p-value:  0.0002346195061175181\n"
     ]
    }
   ],
   "source": [
    "chi2, p, L, expected = stats.chi2_contingency(tab, correction=False)\n",
    "print(\"статистика: \", chi2, \"p-value: \", p)"
   ]
  },
  {
   "cell_type": "markdown",
   "metadata": {},
   "source": [
    "- **Вывод 3.2:** Нулевая гипотеза о независимости увольнений от изменения дохода на уровне значимости 0.05 **отвергается**, достигаемый уровень значимости ~ 0.00023."
   ]
  },
  {
   "cell_type": "markdown",
   "metadata": {},
   "source": [
    "## 4. Уровень сотрудника"
   ]
  },
  {
   "cell_type": "code",
   "execution_count": 40,
   "metadata": {},
   "outputs": [
    {
     "data": {
      "text/plain": [
       "Senior     342\n",
       "Regular     71\n",
       "Junior      16\n",
       "Name: Degree, dtype: int64"
      ]
     },
     "execution_count": 40,
     "metadata": {},
     "output_type": "execute_result"
    }
   ],
   "source": [
    "data.Degree.value_counts()"
   ]
  },
  {
   "cell_type": "markdown",
   "metadata": {},
   "source": [
    "Проверим гипотезу о том, что уровень сотрудника связан с принятием решения об увольнении. Составим таблицу сопряженности \"уровень сотрудника\" на \"увольнение\", где значением ячейки была бы разность между наблюдаемым и ожидаемым количеством человек."
   ]
  },
  {
   "cell_type": "code",
   "execution_count": 41,
   "metadata": {},
   "outputs": [
    {
     "data": {
      "text/plain": [
       "<matplotlib.axes._subplots.AxesSubplot at 0xf2da1d0>"
      ]
     },
     "execution_count": 41,
     "metadata": {},
     "output_type": "execute_result"
    },
    {
     "data": {
      "image/png": "[encoded data removed]",
      "text/plain": [
       "<Figure size 432x288 with 1 Axes>"
      ]
     },
     "metadata": {},
     "output_type": "display_data"
    }
   ],
   "source": [
    "seaborn.countplot(x=data.Degree, hue=data.Resigned)"
   ]
  },
  {
   "cell_type": "markdown",
   "metadata": {},
   "source": [
    "По графику можно заключить следующее: наиболее многочисленной группой среди уволившихся сотрудников являются старшие сотрудники, наименее многочисленнной - молодые. По графику оценить отличия долей для разных групп возможным не представлется."
   ]
  },
  {
   "cell_type": "code",
   "execution_count": 42,
   "metadata": {},
   "outputs": [],
   "source": [
    "deg_levels = ['Junior', 'Regular', 'Senior']"
   ]
  },
  {
   "cell_type": "markdown",
   "metadata": {},
   "source": [
    "### Проверка гипотезы о том, что уровень сотрудника не связан с увольнеием\n",
    "\n",
    "$H_0\\colon$ увольнения и уровень сотрудника независимы \n",
    "\n",
    "$H_1\\colon$ увольнения и уровень сотрудника зависимы"
   ]
  },
  {
   "cell_type": "code",
   "execution_count": 43,
   "metadata": {},
   "outputs": [
    {
     "data": {
      "text/html": [
       "<div>\n",
       "<style scoped>\n",
       "    .dataframe tbody tr th:only-of-type {\n",
       "        vertical-align: middle;\n",
       "    }\n",
       "\n",
       "    .dataframe tbody tr th {\n",
       "        vertical-align: top;\n",
       "    }\n",
       "\n",
       "    .dataframe thead th {\n",
       "        text-align: right;\n",
       "    }\n",
       "</style>\n",
       "<table border=\"1\" class=\"dataframe\">\n",
       "  <thead>\n",
       "    <tr style=\"text-align: right;\">\n",
       "      <th></th>\n",
       "      <th>Junior</th>\n",
       "      <th>Regular</th>\n",
       "      <th>Senior</th>\n",
       "    </tr>\n",
       "    <tr>\n",
       "      <th>Resigned</th>\n",
       "      <th></th>\n",
       "      <th></th>\n",
       "      <th></th>\n",
       "    </tr>\n",
       "  </thead>\n",
       "  <tbody>\n",
       "    <tr>\n",
       "      <th>0</th>\n",
       "      <td>9</td>\n",
       "      <td>46</td>\n",
       "      <td>251</td>\n",
       "    </tr>\n",
       "    <tr>\n",
       "      <th>1</th>\n",
       "      <td>7</td>\n",
       "      <td>25</td>\n",
       "      <td>91</td>\n",
       "    </tr>\n",
       "  </tbody>\n",
       "</table>\n",
       "</div>"
      ],
      "text/plain": [
       "          Junior  Regular  Senior\n",
       "Resigned                         \n",
       "0              9       46     251\n",
       "1              7       25      91"
      ]
     },
     "execution_count": 43,
     "metadata": {},
     "output_type": "execute_result"
    }
   ],
   "source": [
    "tab = pd.crosstab(data.Resigned, data.Degree)\n",
    "tab.columns = deg_levels\n",
    "tab"
   ]
  },
  {
   "cell_type": "code",
   "execution_count": 44,
   "metadata": {},
   "outputs": [
    {
     "name": "stdout",
     "output_type": "stream",
     "text": [
      "[(0, 1), (0, 2), (1, 2)]\n"
     ]
    }
   ],
   "source": [
    "levels = range(3)\n",
    "deg_pairs = list(combinations(levels,2))\n",
    "print(deg_pairs)"
   ]
  },
  {
   "cell_type": "markdown",
   "metadata": {},
   "source": [
    "Для проверки гипотезы используем точный тест Фишера на каждой паре сочетаний уровней."
   ]
  },
  {
   "cell_type": "code",
   "execution_count": 46,
   "metadata": {},
   "outputs": [
    {
     "name": "stdout",
     "output_type": "stream",
     "text": [
      "(0, 1) 5.885057471264368\n",
      "(0, 2) 4.379888268156424\n",
      "(1, 2) 19.941888619854723\n"
     ]
    }
   ],
   "source": [
    "for pair in deg_pairs:\n",
    "    subtable = tab.iloc[:, list(pair)]\n",
    "    print(pair, (subtable.iloc[0,0]+subtable.iloc[1,0])\n",
    "        *(subtable.iloc[1,0]+subtable.iloc[1,1])/float(np.sum(np.array(subtable))))"
   ]
  },
  {
   "cell_type": "code",
   "execution_count": 47,
   "metadata": {},
   "outputs": [],
   "source": [
    "fisher = []\n",
    "for pair in deg_pairs:\n",
    "    subtable = tab.iloc[:,list(pair)]\n",
    "    pair_named = deg_levels[pair[0]] +' vs. '+deg_levels[pair[1]] \n",
    "    fisher.append([pair_named, stats.fisher_exact(subtable)[0], stats.fisher_exact(subtable)[1]])\n",
    "fisher = pd.DataFrame(fisher, columns=['pair','odds','p_value'])"
   ]
  },
  {
   "cell_type": "code",
   "execution_count": 48,
   "metadata": {},
   "outputs": [
    {
     "data": {
      "text/html": [
       "<div>\n",
       "<style scoped>\n",
       "    .dataframe tbody tr th:only-of-type {\n",
       "        vertical-align: middle;\n",
       "    }\n",
       "\n",
       "    .dataframe tbody tr th {\n",
       "        vertical-align: top;\n",
       "    }\n",
       "\n",
       "    .dataframe thead th {\n",
       "        text-align: right;\n",
       "    }\n",
       "</style>\n",
       "<table border=\"1\" class=\"dataframe\">\n",
       "  <thead>\n",
       "    <tr style=\"text-align: right;\">\n",
       "      <th></th>\n",
       "      <th>pair</th>\n",
       "      <th>odds</th>\n",
       "      <th>p_value</th>\n",
       "    </tr>\n",
       "  </thead>\n",
       "  <tbody>\n",
       "    <tr>\n",
       "      <th>0</th>\n",
       "      <td>Junior vs. Regular</td>\n",
       "      <td>0.698758</td>\n",
       "      <td>0.572816</td>\n",
       "    </tr>\n",
       "    <tr>\n",
       "      <th>1</th>\n",
       "      <td>Junior vs. Senior</td>\n",
       "      <td>0.466135</td>\n",
       "      <td>0.153211</td>\n",
       "    </tr>\n",
       "    <tr>\n",
       "      <th>2</th>\n",
       "      <td>Regular vs. Senior</td>\n",
       "      <td>0.667092</td>\n",
       "      <td>0.148736</td>\n",
       "    </tr>\n",
       "  </tbody>\n",
       "</table>\n",
       "</div>"
      ],
      "text/plain": [
       "                 pair      odds   p_value\n",
       "0  Junior vs. Regular  0.698758  0.572816\n",
       "1   Junior vs. Senior  0.466135  0.153211\n",
       "2  Regular vs. Senior  0.667092  0.148736"
      ]
     },
     "execution_count": 48,
     "metadata": {},
     "output_type": "execute_result"
    }
   ],
   "source": [
    "fisher"
   ]
  },
  {
   "cell_type": "markdown",
   "metadata": {},
   "source": [
    "Сделаем поправку на множественную проверку гипотез по методу Холма:"
   ]
  },
  {
   "cell_type": "code",
   "execution_count": 49,
   "metadata": {},
   "outputs": [
    {
     "data": {
      "text/html": [
       "<div>\n",
       "<style scoped>\n",
       "    .dataframe tbody tr th:only-of-type {\n",
       "        vertical-align: middle;\n",
       "    }\n",
       "\n",
       "    .dataframe tbody tr th {\n",
       "        vertical-align: top;\n",
       "    }\n",
       "\n",
       "    .dataframe thead th {\n",
       "        text-align: right;\n",
       "    }\n",
       "</style>\n",
       "<table border=\"1\" class=\"dataframe\">\n",
       "  <thead>\n",
       "    <tr style=\"text-align: right;\">\n",
       "      <th></th>\n",
       "      <th>pair</th>\n",
       "      <th>odds</th>\n",
       "      <th>p_value</th>\n",
       "      <th>p_corrected</th>\n",
       "      <th>reject</th>\n",
       "    </tr>\n",
       "  </thead>\n",
       "  <tbody>\n",
       "    <tr>\n",
       "      <th>0</th>\n",
       "      <td>Junior vs. Regular</td>\n",
       "      <td>0.698758</td>\n",
       "      <td>0.572816</td>\n",
       "      <td>0.572816</td>\n",
       "      <td>False</td>\n",
       "    </tr>\n",
       "    <tr>\n",
       "      <th>1</th>\n",
       "      <td>Junior vs. Senior</td>\n",
       "      <td>0.466135</td>\n",
       "      <td>0.153211</td>\n",
       "      <td>0.446208</td>\n",
       "      <td>False</td>\n",
       "    </tr>\n",
       "    <tr>\n",
       "      <th>2</th>\n",
       "      <td>Regular vs. Senior</td>\n",
       "      <td>0.667092</td>\n",
       "      <td>0.148736</td>\n",
       "      <td>0.446208</td>\n",
       "      <td>False</td>\n",
       "    </tr>\n",
       "  </tbody>\n",
       "</table>\n",
       "</div>"
      ],
      "text/plain": [
       "                 pair      odds   p_value  p_corrected  reject\n",
       "0  Junior vs. Regular  0.698758  0.572816     0.572816   False\n",
       "1   Junior vs. Senior  0.466135  0.153211     0.446208   False\n",
       "2  Regular vs. Senior  0.667092  0.148736     0.446208   False"
      ]
     },
     "execution_count": 49,
     "metadata": {},
     "output_type": "execute_result"
    }
   ],
   "source": [
    "reject, p_corrected, a1, a2 = multipletests(fisher.p_value, \n",
    "                                            alpha = 0.05, \n",
    "                                            method = 'holm') \n",
    "fisher['p_corrected']=p_corrected\n",
    "fisher['reject']=reject\n",
    "fisher"
   ]
  },
  {
   "cell_type": "markdown",
   "metadata": {},
   "source": [
    "- **Вывод 3.1:** С учетом поправки на множественную проверку гипотез (и без), нулевая гипотеза об отсутствии взаимосвзи между уровнем сотрудника и увольнен6ием на уровне занчимости 0.05 отвергается для всех пар сочетаний (Junior vs. Regular, Junior vs. Senior, Regular vs. Senior)."
   ]
  },
  {
   "cell_type": "markdown",
   "metadata": {},
   "source": [
    "## 5. Корпоративное обучение (Тренинги)"
   ]
  },
  {
   "cell_type": "markdown",
   "metadata": {},
   "source": [
    "Проверим, как связано прохождение корпоративного обучения с индикатором увольнения: предложим меру, по которой можно измерить возможную связь этих переменных и посчитать ее значение."
   ]
  },
  {
   "cell_type": "code",
   "execution_count": 51,
   "metadata": {},
   "outputs": [
    {
     "data": {
      "text/plain": [
       "135"
      ]
     },
     "execution_count": 51,
     "metadata": {},
     "output_type": "execute_result"
    }
   ],
   "source": [
    "np.sum(data.Trainings>0)"
   ]
  },
  {
   "cell_type": "code",
   "execution_count": 52,
   "metadata": {},
   "outputs": [],
   "source": [
    "index = (data.Trainings>0)\n",
    "data.loc[index,'Trainings_bin']=1\n",
    "data.loc[-index,'Trainings_bin']=0"
   ]
  },
  {
   "cell_type": "code",
   "execution_count": 53,
   "metadata": {},
   "outputs": [
    {
     "data": {
      "text/plain": [
       "<matplotlib.axes._subplots.AxesSubplot at 0xb13f5f8>"
      ]
     },
     "execution_count": 53,
     "metadata": {},
     "output_type": "execute_result"
    },
    {
     "data": {
      "image/png": "[encoded data removed]",
      "text/plain": [
       "<Figure size 432x288 with 1 Axes>"
      ]
     },
     "metadata": {},
     "output_type": "display_data"
    }
   ],
   "source": [
    "seaborn.countplot(x=data.Trainings_bin, hue=data.Resigned)"
   ]
  },
  {
   "cell_type": "markdown",
   "metadata": {},
   "source": [
    "1 - сотрудник проходил обучение в течение года, 0 - сотрудник не проходил обучение в течение года\n",
    "\n",
    "На основании графика можно сделать предположение о наличии связи между фактом прохождения корпоративного обучения и индикатором увольнения. Доля уволившихся сотрудников среди тех, кто не участвовал в корпоративном обучении - выше."
   ]
  },
  {
   "cell_type": "code",
   "execution_count": 54,
   "metadata": {},
   "outputs": [
    {
     "data": {
      "text/html": [
       "<div>\n",
       "<style scoped>\n",
       "    .dataframe tbody tr th:only-of-type {\n",
       "        vertical-align: middle;\n",
       "    }\n",
       "\n",
       "    .dataframe tbody tr th {\n",
       "        vertical-align: top;\n",
       "    }\n",
       "\n",
       "    .dataframe thead th {\n",
       "        text-align: right;\n",
       "    }\n",
       "</style>\n",
       "<table border=\"1\" class=\"dataframe\">\n",
       "  <thead>\n",
       "    <tr style=\"text-align: right;\">\n",
       "      <th>Trainings_bin</th>\n",
       "      <th>0.0</th>\n",
       "      <th>1.0</th>\n",
       "    </tr>\n",
       "    <tr>\n",
       "      <th>Resigned</th>\n",
       "      <th></th>\n",
       "      <th></th>\n",
       "    </tr>\n",
       "  </thead>\n",
       "  <tbody>\n",
       "    <tr>\n",
       "      <th>0</th>\n",
       "      <td>191</td>\n",
       "      <td>115</td>\n",
       "    </tr>\n",
       "    <tr>\n",
       "      <th>1</th>\n",
       "      <td>103</td>\n",
       "      <td>20</td>\n",
       "    </tr>\n",
       "  </tbody>\n",
       "</table>\n",
       "</div>"
      ],
      "text/plain": [
       "Trainings_bin  0.0  1.0\n",
       "Resigned               \n",
       "0              191  115\n",
       "1              103   20"
      ]
     },
     "execution_count": 54,
     "metadata": {},
     "output_type": "execute_result"
    }
   ],
   "source": [
    "tab = pd.crosstab(data.Resigned, data.Trainings_bin)\n",
    "tab"
   ]
  },
  {
   "cell_type": "markdown",
   "metadata": {},
   "source": [
    "### Проверим гипотезу о независимости увольнений и корпоративного обучения\n",
    "\n",
    "$H_0\\colon$ увольнения и прохождение корпоративного обучения независимы \n",
    "\n",
    "$H_1\\colon$ увольнения и прохождение корпоративного обучения зависимы"
   ]
  },
  {
   "cell_type": "code",
   "execution_count": 55,
   "metadata": {},
   "outputs": [
    {
     "name": "stdout",
     "output_type": "stream",
     "text": [
      "статистика:  18.494378329470905 p-value:  1.704061901818922e-05\n"
     ]
    }
   ],
   "source": [
    "chi2, p, L, expected = stats.chi2_contingency(tab, correction=False)\n",
    "print(\"статистика: \", chi2, \"p-value: \", p)"
   ]
  },
  {
   "cell_type": "markdown",
   "metadata": {},
   "source": [
    "### Оценка силы взаимосвязи с помощью корреляции Мэтьюса\n",
    "\n",
    "$H_0\\colon MCC_{X_1X_2} = 0$\n",
    "\n",
    "$H_1\\colon MCC_{X_1X_2} \\neq 0$,\n",
    "\n",
    "где $X_1$ - бинарная переменная корпоративного обучения, а $X_2$ - бинарный индикатор увольнения"
   ]
  },
  {
   "cell_type": "code",
   "execution_count": 56,
   "metadata": {},
   "outputs": [
    {
     "name": "stdout",
     "output_type": "stream",
     "text": [
      "Коэффициент корреляции Мэтьюса:  -0.20763053483636665\n",
      "Достигаемый уровень значимости:  1.704061901818922e-05\n"
     ]
    }
   ],
   "source": [
    "a = tab.iloc[0,0]\n",
    "b = tab.iloc[0,1]\n",
    "c = tab.iloc[1,0]\n",
    "d = tab.iloc[1,1]\n",
    "MCC = (a*d-b*c)/(np.sqrt((a+b)*(a+c)*(b+d)*(c+d)))\n",
    "print('Коэффициент корреляции Мэтьюса: ',MCC)\n",
    "print('Достигаемый уровень значимости: ',p)"
   ]
  },
  {
   "cell_type": "markdown",
   "metadata": {},
   "source": [
    "- **Вывод 5.1:** Гипотеза о независимости для пары \"отсутствие/наличие обучения\" и увольнениями **отвергается**, достигаемый уровень значимости ~ 1.7e-5.\n",
    "- **Вывод 5.2:** На уровне значимости 0.05 гипотеза о равенстве нулю коэффициента корреляции Мэтьюса для бинарной переменной (отсутствие обучения-0, обучение-1) и индикатором увольнения **отвергается**, достигаемый уровень значимости ~ 1.7e-5\n",
    "- **Вывод 5.3:** Обнаружена слабая отрицательная взаимосвязь между прохождением корпоративного обучения и увольнением."
   ]
  },
  {
   "cell_type": "markdown",
   "metadata": {},
   "source": [
    "## 6. Возраст"
   ]
  },
  {
   "cell_type": "markdown",
   "metadata": {},
   "source": [
    "Относительно двух групп сотрудников проверим следующие гипотезы: \n",
    "- a) о равенстве средних значений возрастов работающих и уволившихся сотрудников \n",
    "- b) о равенстве распределений с помощью одного из подходящих непараметрических критериев"
   ]
  },
  {
   "cell_type": "code",
   "execution_count": 57,
   "metadata": {},
   "outputs": [
    {
     "data": {
      "text/plain": [
       "<matplotlib.axes._subplots.AxesSubplot at 0xac210b8>"
      ]
     },
     "execution_count": 57,
     "metadata": {},
     "output_type": "execute_result"
    },
    {
     "data": {
      "image/png": "[encoded data removed]",
      "text/plain": [
       "<Figure size 576x360 with 1 Axes>"
      ]
     },
     "metadata": {},
     "output_type": "display_data"
    }
   ],
   "source": [
    "data.Age[data.Resigned==0].hist(figsize=(8,5), bins=20)\n",
    "data.Age[data.Resigned==1].hist(figsize=(8,5), bins=20)"
   ]
  },
  {
   "cell_type": "code",
   "execution_count": 58,
   "metadata": {},
   "outputs": [
    {
     "data": {
      "image/png": "[encoded data removed]",
      "text/plain": [
       "<Figure size 432x288 with 1 Axes>"
      ]
     },
     "metadata": {},
     "output_type": "display_data"
    }
   ],
   "source": [
    "ax = seaborn.boxplot(x=\"Resigned\", y=\"Age\", data=data)"
   ]
  },
  {
   "cell_type": "markdown",
   "metadata": {},
   "source": [
    "По графикам можно заключить что медианные значения возрастов в двух группах различаются. Группа работающих сотрудников имеет более длинный хвост. Оба распределения несимметричны, максимум смещен влево (младшие возраста)."
   ]
  },
  {
   "cell_type": "markdown",
   "metadata": {},
   "source": [
    "### Проверка гипотезы о равенстве средних значений возраста с помощью интервальной оценки:\n",
    "\n",
    "$H_0\\colon mean_0 = mean_1$\n",
    "\n",
    "$H_1\\colon mean_0 \\neq mean_1$,\n",
    "\n",
    "где $mean_0$ - среднее значение возраста для работающих сотрудников, $mean_1$ - для уволившихся (Resigned=1)"
   ]
  },
  {
   "cell_type": "code",
   "execution_count": 59,
   "metadata": {},
   "outputs": [
    {
     "data": {
      "image/png": "[encoded data removed]",
      "text/plain": [
       "<Figure size 864x576 with 2 Axes>"
      ]
     },
     "metadata": {},
     "output_type": "display_data"
    }
   ],
   "source": [
    "# QQ-plot\n",
    "pylab.figure(figsize=(12,8))\n",
    "pylab.subplot(2,2,1)\n",
    "stats.probplot(data.Age[data.Resigned==0], dist=\"norm\", plot=pylab)\n",
    "pylab.subplot(2,2,2)\n",
    "stats.probplot(data.Age[data.Resigned==1], dist=\"norm\", plot=pylab)\n",
    "pylab.show()"
   ]
  },
  {
   "cell_type": "markdown",
   "metadata": {},
   "source": [
    "Выборки взяты не из нормального распределения, поэтому для построения итнтервальных оценок будем использовать бутстреп"
   ]
  },
  {
   "cell_type": "code",
   "execution_count": 60,
   "metadata": {},
   "outputs": [
    {
     "name": "stdout",
     "output_type": "stream",
     "text": [
      "95% confidence interval for the Age mean: [34.79248366 37.27794118]\n",
      "95% confidence interval for the Age mean Resigned: [30.56097561 32.62601626]\n"
     ]
    }
   ],
   "source": [
    "np.random.seed(0)\n",
    "mean_scores_0 = list(map(lambda x: np.mean(x), \n",
    "                      get_bootstrap_samples(data.Age[data.Resigned==0].values, 1000)))\n",
    "mean_scores_1 = list(map(lambda x: np.mean(x),  \n",
    "                      get_bootstrap_samples(data.Age[data.Resigned==1].values, 1000)))\n",
    "\n",
    "print(\"95% confidence interval for the Age mean:\", \n",
    "    stat_intervals(mean_scores_0, 0.05))\n",
    "print(\"95% confidence interval for the Age mean Resigned:\", \n",
    "    stat_intervals(mean_scores_1, 0.05))"
   ]
  },
  {
   "cell_type": "markdown",
   "metadata": {},
   "source": [
    "#### Точечная оценка разности средних (наблюдаемая)"
   ]
  },
  {
   "cell_type": "code",
   "execution_count": 61,
   "metadata": {},
   "outputs": [
    {
     "name": "stdout",
     "output_type": "stream",
     "text": [
      "difference between means: 4.460385780328394\n"
     ]
    }
   ],
   "source": [
    "mean_delta_observed = np.mean(data.Age[data.Resigned==0])- np.mean(data.Age[data.Resigned==1])\n",
    "print(\"difference between means:\", mean_delta_observed)"
   ]
  },
  {
   "cell_type": "markdown",
   "metadata": {},
   "source": [
    "#### Интервальная оценка разности средних"
   ]
  },
  {
   "cell_type": "code",
   "execution_count": 62,
   "metadata": {},
   "outputs": [
    {
     "name": "stdout",
     "output_type": "stream",
     "text": [
      "95% confidence interval for the difference between means [2.87803284 6.09477523]\n"
     ]
    }
   ],
   "source": [
    "delta_mean_scores = list(map(lambda x: x[0] - x[1], zip(mean_scores_0, mean_scores_1)))\n",
    "print(\"95% confidence interval for the difference between means\", \n",
    "    stat_intervals(delta_mean_scores, 0.05))"
   ]
  },
  {
   "cell_type": "markdown",
   "metadata": {},
   "source": [
    "Минимальное значение"
   ]
  },
  {
   "cell_type": "code",
   "execution_count": 63,
   "metadata": {},
   "outputs": [
    {
     "data": {
      "text/plain": [
       "0.317460317000001"
      ]
     },
     "execution_count": 63,
     "metadata": {},
     "output_type": "execute_result"
    }
   ],
   "source": [
    "np.min(delta_median_scores)"
   ]
  },
  {
   "cell_type": "markdown",
   "metadata": {},
   "source": [
    "- **Вывод 6.1:** 95% доверительные интервалы для средних значений возрастов работающих и уволившихся сотрудников не пересекаются, нулевая гипотеза о равенстве средних значений возраста **отвергается**."
   ]
  },
  {
   "cell_type": "markdown",
   "metadata": {},
   "source": [
    "### Проверка гипотезы о равенстве распределений возрастов в двух группах\n",
    "\n",
    "$H_0\\colon F_{X_0}(x) = F_{X_1}(x+\\Delta), \\Delta = 0$\n",
    "\n",
    "$H_1\\colon F_{X_0}(x) = F_{X_1}(x+\\Delta), \\Delta \\neq 0$,\n",
    "\n",
    "где F - соответствующие распределения, $X_0$ - выборка значений возрастов для работающихсотрудников, $X_1$ - для уволившихся"
   ]
  },
  {
   "cell_type": "markdown",
   "metadata": {},
   "source": [
    "Используем перестановочный критерий для независимых выборок:"
   ]
  },
  {
   "cell_type": "code",
   "execution_count": 64,
   "metadata": {},
   "outputs": [
    {
     "name": "stdout",
     "output_type": "stream",
     "text": [
      "(123,) (306,)\n"
     ]
    }
   ],
   "source": [
    "sample1 = data.Age[data.Resigned==1].values\n",
    "sample0 = data.Age[data.Resigned==0].values\n",
    "print(sample1.shape, sample0.shape)"
   ]
  },
  {
   "cell_type": "code",
   "execution_count": 65,
   "metadata": {},
   "outputs": [
    {
     "name": "stdout",
     "output_type": "stream",
     "text": [
      "Достигаемый уровень значимости: p-value 0.000100\n"
     ]
    }
   ],
   "source": [
    "np.random.seed(0)\n",
    "print(\"Достигаемый уровень значимости: p-value %f\" % \n",
    "    permutation_test_ind(sample0, sample1, max_combinations = 10000))"
   ]
  },
  {
   "cell_type": "markdown",
   "metadata": {},
   "source": [
    "- **Вывод 6.2:** Нулевая гипотеза о равенстве распределений значений возрастов для работающих и уволившихся сотрудников против альтернативы о неравенстве распределений ($\\Delta \\neq 0$) на уровне значимости 0.05 **отвергается**. Достигаемый уровень значимости: p-value 0.0001."
   ]
  }
 ],
 "metadata": {
  "kernelspec": {
   "display_name": "Python 3",
   "language": "python",
   "name": "python3"
  },
  "language_info": {
   "codemirror_mode": {
    "name": "ipython",
    "version": 3
   },
   "file_extension": ".py",
   "mimetype": "text/x-python",
   "name": "python",
   "nbconvert_exporter": "python",
   "pygments_lexer": "ipython3",
   "version": "3.6.5"
  }
 },
 "nbformat": 4,
 "nbformat_minor": 1
}
